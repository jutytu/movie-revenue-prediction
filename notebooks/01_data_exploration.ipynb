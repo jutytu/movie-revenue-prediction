{
 "cells": [
  {
   "cell_type": "markdown",
   "id": "b54751c1-c028-4ab6-a501-d542d7740a2c",
   "metadata": {},
   "source": [
    "## Data exploration"
   ]
  },
  {
   "cell_type": "markdown",
   "id": "9369920e-35f9-4a79-bd1f-1a7cff846531",
   "metadata": {},
   "source": [
    "This project analyzes the TMDB 5000 Movies dataset to explore the relationships between budget, revenue, genres, and other features.\n",
    "In this notebook, we perform initial data exploration, assess missing values, and identify potential quality issues before cleaning."
   ]
  },
  {
   "cell_type": "code",
   "execution_count": 2,
   "id": "5b648365-8d87-4dbd-bffd-2905e908a5cf",
   "metadata": {},
   "outputs": [],
   "source": [
    "import pandas as pd\n",
    "import seaborn as sns\n",
    "import matplotlib.pyplot as plt\n",
    "import glob\n",
    "from src.utils import split_csv"
   ]
  },
  {
   "cell_type": "markdown",
   "id": "8dd34291-72af-4981-bda3-05aa6d267024",
   "metadata": {},
   "source": [
    "We begin by loading the two datasets:\n",
    "\n",
    "movies → contains metadata (title, budget, revenue, genres, release date, etc.)\n",
    "\n",
    "credits → contains cast and crew information\n",
    "\n",
    "We merge them on the movie ID to create a single dataset."
   ]
  },
  {
   "cell_type": "code",
   "execution_count": 3,
   "id": "621f86a9-7051-4668-a531-d2d209125529",
   "metadata": {},
   "outputs": [
    {
     "name": "stdout",
     "output_type": "stream",
     "text": [
      "Index(['budget', 'genres', 'homepage', 'id', 'keywords', 'original_language',\n",
      "       'original_title', 'overview', 'popularity', 'production_companies',\n",
      "       'production_countries', 'release_date', 'revenue', 'runtime',\n",
      "       'spoken_languages', 'status', 'tagline', 'title', 'vote_average',\n",
      "       'vote_count'],\n",
      "      dtype='object')\n",
      "Index(['movie_id', 'title', 'cast', 'crew'], dtype='object')\n"
     ]
    }
   ],
   "source": [
    "movies = pd.read_csv(\"../data/raw/tmdb_5000_movies.csv\")\n",
    "credits = pd.read_csv(\"../data/raw/tmdb_5000_credits.csv\")\n",
    "\n",
    "print(movies.columns)\n",
    "print(credits.columns)\n",
    "\n",
    "# Merging the 2 datasets\n",
    "credits.rename(columns={'movie_id': 'id'}, inplace=True)\n",
    "df = movies.merge(credits, on='id')"
   ]
  },
  {
   "cell_type": "code",
   "execution_count": 4,
   "id": "a92c0aaf-6c60-4140-b983-e3b826ab7b2b",
   "metadata": {},
   "outputs": [
    {
     "name": "stdout",
     "output_type": "stream",
     "text": [
      "Columns: Index(['budget', 'genres', 'homepage', 'id', 'keywords', 'original_language',\n",
      "       'original_title', 'overview', 'popularity', 'production_companies',\n",
      "       'production_countries', 'release_date', 'revenue', 'runtime',\n",
      "       'spoken_languages', 'status', 'tagline', 'title_x', 'vote_average',\n",
      "       'vote_count', 'title_y', 'cast', 'crew'],\n",
      "      dtype='object')\n",
      "True\n"
     ]
    }
   ],
   "source": [
    "# Checking if 'title' is the same in both initial dataframes:\n",
    "\n",
    "print(f'Columns: {df.columns}')\n",
    "print((df['title_x'] == df['title_y']).all())"
   ]
  },
  {
   "cell_type": "code",
   "execution_count": 5,
   "id": "74618944-6e9d-4b8d-8413-8e2e1e038708",
   "metadata": {},
   "outputs": [],
   "source": [
    "# They are, so we remove 'title_y'\n",
    "\n",
    "df = df.drop(columns=['title_y']).rename(columns={'title_x': 'title'})"
   ]
  },
  {
   "cell_type": "markdown",
   "id": "38bed168-202f-4e31-9947-7b93d1c43041",
   "metadata": {},
   "source": [
    "### Inspecting the data\n",
    "\n",
    "We look at basic info to understand column types, distributions, and potential anomalies."
   ]
  },
  {
   "cell_type": "code",
   "execution_count": 6,
   "id": "cfae2499-7bd6-4c1c-bebe-9cdf738d68a8",
   "metadata": {
    "scrolled": true
   },
   "outputs": [
    {
     "name": "stdout",
     "output_type": "stream",
     "text": [
      "Columns: Index(['budget', 'genres', 'homepage', 'id', 'keywords', 'original_language',\n",
      "       'original_title', 'overview', 'popularity', 'production_companies',\n",
      "       'production_countries', 'release_date', 'revenue', 'runtime',\n",
      "       'spoken_languages', 'status', 'tagline', 'title', 'vote_average',\n",
      "       'vote_count', 'cast', 'crew'],\n",
      "      dtype='object')\n",
      "             budget             id   popularity       revenue      runtime  \\\n",
      "count  4.803000e+03    4803.000000  4803.000000  4.803000e+03  4801.000000   \n",
      "mean   2.904504e+07   57165.484281    21.492301  8.226064e+07   106.875859   \n",
      "std    4.072239e+07   88694.614033    31.816650  1.628571e+08    22.611935   \n",
      "min    0.000000e+00       5.000000     0.000000  0.000000e+00     0.000000   \n",
      "25%    7.900000e+05    9014.500000     4.668070  0.000000e+00    94.000000   \n",
      "50%    1.500000e+07   14629.000000    12.921594  1.917000e+07   103.000000   \n",
      "75%    4.000000e+07   58610.500000    28.313505  9.291719e+07   118.000000   \n",
      "max    3.800000e+08  459488.000000   875.581305  2.787965e+09   338.000000   \n",
      "\n",
      "       vote_average    vote_count  \n",
      "count   4803.000000   4803.000000  \n",
      "mean       6.092172    690.217989  \n",
      "std        1.194612   1234.585891  \n",
      "min        0.000000      0.000000  \n",
      "25%        5.600000     54.000000  \n",
      "50%        6.200000    235.000000  \n",
      "75%        6.800000    737.000000  \n",
      "max       10.000000  13752.000000  \n",
      "<class 'pandas.core.frame.DataFrame'>\n",
      "RangeIndex: 4803 entries, 0 to 4802\n",
      "Data columns (total 22 columns):\n",
      " #   Column                Non-Null Count  Dtype  \n",
      "---  ------                --------------  -----  \n",
      " 0   budget                4803 non-null   int64  \n",
      " 1   genres                4803 non-null   object \n",
      " 2   homepage              1712 non-null   object \n",
      " 3   id                    4803 non-null   int64  \n",
      " 4   keywords              4803 non-null   object \n",
      " 5   original_language     4803 non-null   object \n",
      " 6   original_title        4803 non-null   object \n",
      " 7   overview              4800 non-null   object \n",
      " 8   popularity            4803 non-null   float64\n",
      " 9   production_companies  4803 non-null   object \n",
      " 10  production_countries  4803 non-null   object \n",
      " 11  release_date          4802 non-null   object \n",
      " 12  revenue               4803 non-null   int64  \n",
      " 13  runtime               4801 non-null   float64\n",
      " 14  spoken_languages      4803 non-null   object \n",
      " 15  status                4803 non-null   object \n",
      " 16  tagline               3959 non-null   object \n",
      " 17  title                 4803 non-null   object \n",
      " 18  vote_average          4803 non-null   float64\n",
      " 19  vote_count            4803 non-null   int64  \n",
      " 20  cast                  4803 non-null   object \n",
      " 21  crew                  4803 non-null   object \n",
      "dtypes: float64(3), int64(4), object(15)\n",
      "memory usage: 825.6+ KB\n",
      "None\n",
      "      budget                                             genres  \\\n",
      "0  237000000  [{\"id\": 28, \"name\": \"Action\"}, {\"id\": 12, \"nam...   \n",
      "1  300000000  [{\"id\": 12, \"name\": \"Adventure\"}, {\"id\": 14, \"...   \n",
      "2  245000000  [{\"id\": 28, \"name\": \"Action\"}, {\"id\": 12, \"nam...   \n",
      "3  250000000  [{\"id\": 28, \"name\": \"Action\"}, {\"id\": 80, \"nam...   \n",
      "4  260000000  [{\"id\": 28, \"name\": \"Action\"}, {\"id\": 12, \"nam...   \n",
      "\n",
      "                                       homepage      id  \\\n",
      "0                   http://www.avatarmovie.com/   19995   \n",
      "1  http://disney.go.com/disneypictures/pirates/     285   \n",
      "2   http://www.sonypictures.com/movies/spectre/  206647   \n",
      "3            http://www.thedarkknightrises.com/   49026   \n",
      "4          http://movies.disney.com/john-carter   49529   \n",
      "\n",
      "                                            keywords original_language  \\\n",
      "0  [{\"id\": 1463, \"name\": \"culture clash\"}, {\"id\":...                en   \n",
      "1  [{\"id\": 270, \"name\": \"ocean\"}, {\"id\": 726, \"na...                en   \n",
      "2  [{\"id\": 470, \"name\": \"spy\"}, {\"id\": 818, \"name...                en   \n",
      "3  [{\"id\": 849, \"name\": \"dc comics\"}, {\"id\": 853,...                en   \n",
      "4  [{\"id\": 818, \"name\": \"based on novel\"}, {\"id\":...                en   \n",
      "\n",
      "                             original_title  \\\n",
      "0                                    Avatar   \n",
      "1  Pirates of the Caribbean: At World's End   \n",
      "2                                   Spectre   \n",
      "3                     The Dark Knight Rises   \n",
      "4                               John Carter   \n",
      "\n",
      "                                            overview  popularity  \\\n",
      "0  In the 22nd century, a paraplegic Marine is di...  150.437577   \n",
      "1  Captain Barbossa, long believed to be dead, ha...  139.082615   \n",
      "2  A cryptic message from Bond’s past sends him o...  107.376788   \n",
      "3  Following the death of District Attorney Harve...  112.312950   \n",
      "4  John Carter is a war-weary, former military ca...   43.926995   \n",
      "\n",
      "                                production_companies  ...     revenue runtime  \\\n",
      "0  [{\"name\": \"Ingenious Film Partners\", \"id\": 289...  ...  2787965087   162.0   \n",
      "1  [{\"name\": \"Walt Disney Pictures\", \"id\": 2}, {\"...  ...   961000000   169.0   \n",
      "2  [{\"name\": \"Columbia Pictures\", \"id\": 5}, {\"nam...  ...   880674609   148.0   \n",
      "3  [{\"name\": \"Legendary Pictures\", \"id\": 923}, {\"...  ...  1084939099   165.0   \n",
      "4        [{\"name\": \"Walt Disney Pictures\", \"id\": 2}]  ...   284139100   132.0   \n",
      "\n",
      "                                    spoken_languages    status  \\\n",
      "0  [{\"iso_639_1\": \"en\", \"name\": \"English\"}, {\"iso...  Released   \n",
      "1           [{\"iso_639_1\": \"en\", \"name\": \"English\"}]  Released   \n",
      "2  [{\"iso_639_1\": \"fr\", \"name\": \"Fran\\u00e7ais\"},...  Released   \n",
      "3           [{\"iso_639_1\": \"en\", \"name\": \"English\"}]  Released   \n",
      "4           [{\"iso_639_1\": \"en\", \"name\": \"English\"}]  Released   \n",
      "\n",
      "                                          tagline  \\\n",
      "0                     Enter the World of Pandora.   \n",
      "1  At the end of the world, the adventure begins.   \n",
      "2                           A Plan No One Escapes   \n",
      "3                                 The Legend Ends   \n",
      "4            Lost in our world, found in another.   \n",
      "\n",
      "                                      title vote_average vote_count  \\\n",
      "0                                    Avatar          7.2      11800   \n",
      "1  Pirates of the Caribbean: At World's End          6.9       4500   \n",
      "2                                   Spectre          6.3       4466   \n",
      "3                     The Dark Knight Rises          7.6       9106   \n",
      "4                               John Carter          6.1       2124   \n",
      "\n",
      "                                                cast  \\\n",
      "0  [{\"cast_id\": 242, \"character\": \"Jake Sully\", \"...   \n",
      "1  [{\"cast_id\": 4, \"character\": \"Captain Jack Spa...   \n",
      "2  [{\"cast_id\": 1, \"character\": \"James Bond\", \"cr...   \n",
      "3  [{\"cast_id\": 2, \"character\": \"Bruce Wayne / Ba...   \n",
      "4  [{\"cast_id\": 5, \"character\": \"John Carter\", \"c...   \n",
      "\n",
      "                                                crew  \n",
      "0  [{\"credit_id\": \"52fe48009251416c750aca23\", \"de...  \n",
      "1  [{\"credit_id\": \"52fe4232c3a36847f800b579\", \"de...  \n",
      "2  [{\"credit_id\": \"54805967c3a36829b5002c41\", \"de...  \n",
      "3  [{\"credit_id\": \"52fe4781c3a36847f81398c3\", \"de...  \n",
      "4  [{\"credit_id\": \"52fe479ac3a36847f813eaa3\", \"de...  \n",
      "\n",
      "[5 rows x 22 columns]\n"
     ]
    }
   ],
   "source": [
    "print(f'Columns: {df.columns}')\n",
    "print(df.describe())\n",
    "print(df.info())\n",
    "print(df.head())"
   ]
  },
  {
   "cell_type": "markdown",
   "id": "f34367e9-e9e5-4c01-964c-82ea6e683190",
   "metadata": {},
   "source": [
    "### Looking at missing values"
   ]
  },
  {
   "cell_type": "code",
   "execution_count": 8,
   "id": "5806b570-e6c0-43b9-9f04-229d6150e4f0",
   "metadata": {},
   "outputs": [
    {
     "data": {
      "image/png": "[encoded data removed]",
      "text/plain": [
       "<Figure size 1200x600 with 1 Axes>"
      ]
     },
     "metadata": {},
     "output_type": "display_data"
    }
   ],
   "source": [
    "plt.figure(figsize=(12,6))\n",
    "df.isnull().sum().plot(kind=\"bar\")\n",
    "plt.title(\"Missing values per column\")\n",
    "plt.ylabel(\"Count\")\n",
    "plt.xticks(rotation=80)\n",
    "plt.show()"
   ]
  },
  {
   "cell_type": "markdown",
   "id": "7e77f720-913b-4844-86d7-e9e271779559",
   "metadata": {},
   "source": [
    "We observe there are missing values in some columns, mostly in \"homepage\" and 'tagline' (also a few missing values in 'release_date', 'overview'and 'runtime', as seen in df info)."
   ]
  },
  {
   "cell_type": "markdown",
   "id": "03964ac1-77e6-4de5-9317-c3ef987cd755",
   "metadata": {},
   "source": [
    "### Data quality checks\n",
    "\n",
    "Investigated a possible data quality issues: movies with zero budget, zero revenue, movies with budget=0 but non-zero revenue (e.g., Alvin and the Chipmunks)\n",
    "\n",
    "We concluded that budget=0 or revenue=0 means missing, not literal zero:"
   ]
  },
  {
   "cell_type": "code",
   "execution_count": 9,
   "id": "75f4b2b8-c6ca-47e9-9da0-7a11914796f3",
   "metadata": {},
   "outputs": [
    {
     "name": "stdout",
     "output_type": "stream",
     "text": [
      "Number of movies with no budget: 1037\n",
      "Number of movies with no revenue: 1427\n"
     ]
    }
   ],
   "source": [
    "print(f'Number of movies with no budget: {(df[\"budget\"] == 0).sum()}\\nNumber of movies with no revenue: {(df[\"revenue\"] == 0).sum()}')\n",
    "# high number of movies with no budget or no revenue"
   ]
  },
  {
   "cell_type": "code",
   "execution_count": 50,
   "id": "2ae8eb2f-80e1-45c1-b842-eb0829c853c1",
   "metadata": {},
   "outputs": [
    {
     "name": "stdout",
     "output_type": "stream",
     "text": [
      "321                               The Campaign\n",
      "359     Alvin and the Chipmunks: The Road Chip\n",
      "409                              All That Jazz\n",
      "475                                   The Edge\n",
      "489                                     Oceans\n",
      "                         ...                  \n",
      "4605                                  Dogtooth\n",
      "4630                                Compliance\n",
      "4677                                     Three\n",
      "4766                            The Last Waltz\n",
      "4775                               Funny Ha Ha\n",
      "Name: title, Length: 147, dtype: object\n"
     ]
    }
   ],
   "source": [
    "print(df[(df[\"budget\"]==0) & (df[\"revenue\"]!=0)].title)"
   ]
  },
  {
   "cell_type": "markdown",
   "id": "35b8e2a3-2e4a-4952-8990-cc0cc7022c0a",
   "metadata": {},
   "source": [
    "We find some movies that have no budget but still have revenue: they could be just interesting quirks, but checking 'Alvin and the Chipmunks: The Road Chip' on Wikipedia quickly gives the real budget of the movie: $90 million. There must be missing data about some of the movies' budgets that was replaced with zeros. For further analysis, we will treat 0 in revenue/budget as missing data. It is one data quality issue we stumble upon at the exploration stage already."
   ]
  },
  {
   "cell_type": "code",
   "execution_count": 56,
   "id": "19f4b11f-f0fb-4009-954e-bd4bbfda4a67",
   "metadata": {},
   "outputs": [
    {
     "name": "stdout",
     "output_type": "stream",
     "text": [
      "1916-09-04 00:00:00 2017-02-03 00:00:00\n"
     ]
    }
   ],
   "source": [
    "# Checking the time period the data comes from\n",
    "\n",
    "df['release_date'] = pd.to_datetime(df['release_date'], errors='coerce')\n",
    "print(df['release_date'].min(), df['release_date'].max())"
   ]
  },
  {
   "cell_type": "code",
   "execution_count": 7,
   "id": "06407f9d-4d4c-4a6c-af68-1e638c1457fe",
   "metadata": {},
   "outputs": [
    {
     "name": "stdout",
     "output_type": "stream",
     "text": [
      "      budget                                             genres  \\\n",
      "0  237000000  [{\"id\": 28, \"name\": \"Action\"}, {\"id\": 12, \"nam...   \n",
      "1  300000000  [{\"id\": 12, \"name\": \"Adventure\"}, {\"id\": 14, \"...   \n",
      "2  245000000  [{\"id\": 28, \"name\": \"Action\"}, {\"id\": 12, \"nam...   \n",
      "3  250000000  [{\"id\": 28, \"name\": \"Action\"}, {\"id\": 80, \"nam...   \n",
      "4  260000000  [{\"id\": 28, \"name\": \"Action\"}, {\"id\": 12, \"nam...   \n",
      "\n",
      "                                       homepage      id  \\\n",
      "0                   http://www.avatarmovie.com/   19995   \n",
      "1  http://disney.go.com/disneypictures/pirates/     285   \n",
      "2   http://www.sonypictures.com/movies/spectre/  206647   \n",
      "3            http://www.thedarkknightrises.com/   49026   \n",
      "4          http://movies.disney.com/john-carter   49529   \n",
      "\n",
      "                                            keywords original_language  \\\n",
      "0  [{\"id\": 1463, \"name\": \"culture clash\"}, {\"id\":...                en   \n",
      "1  [{\"id\": 270, \"name\": \"ocean\"}, {\"id\": 726, \"na...                en   \n",
      "2  [{\"id\": 470, \"name\": \"spy\"}, {\"id\": 818, \"name...                en   \n",
      "3  [{\"id\": 849, \"name\": \"dc comics\"}, {\"id\": 853,...                en   \n",
      "4  [{\"id\": 818, \"name\": \"based on novel\"}, {\"id\":...                en   \n",
      "\n",
      "                             original_title  \\\n",
      "0                                    Avatar   \n",
      "1  Pirates of the Caribbean: At World's End   \n",
      "2                                   Spectre   \n",
      "3                     The Dark Knight Rises   \n",
      "4                               John Carter   \n",
      "\n",
      "                                            overview  popularity  \\\n",
      "0  In the 22nd century, a paraplegic Marine is di...  150.437577   \n",
      "1  Captain Barbossa, long believed to be dead, ha...  139.082615   \n",
      "2  A cryptic message from Bond’s past sends him o...  107.376788   \n",
      "3  Following the death of District Attorney Harve...  112.312950   \n",
      "4  John Carter is a war-weary, former military ca...   43.926995   \n",
      "\n",
      "                                production_companies  ...     revenue runtime  \\\n",
      "0  [{\"name\": \"Ingenious Film Partners\", \"id\": 289...  ...  2787965087   162.0   \n",
      "1  [{\"name\": \"Walt Disney Pictures\", \"id\": 2}, {\"...  ...   961000000   169.0   \n",
      "2  [{\"name\": \"Columbia Pictures\", \"id\": 5}, {\"nam...  ...   880674609   148.0   \n",
      "3  [{\"name\": \"Legendary Pictures\", \"id\": 923}, {\"...  ...  1084939099   165.0   \n",
      "4        [{\"name\": \"Walt Disney Pictures\", \"id\": 2}]  ...   284139100   132.0   \n",
      "\n",
      "                                    spoken_languages    status  \\\n",
      "0  [{\"iso_639_1\": \"en\", \"name\": \"English\"}, {\"iso...  Released   \n",
      "1           [{\"iso_639_1\": \"en\", \"name\": \"English\"}]  Released   \n",
      "2  [{\"iso_639_1\": \"fr\", \"name\": \"Fran\\u00e7ais\"},...  Released   \n",
      "3           [{\"iso_639_1\": \"en\", \"name\": \"English\"}]  Released   \n",
      "4           [{\"iso_639_1\": \"en\", \"name\": \"English\"}]  Released   \n",
      "\n",
      "                                          tagline  \\\n",
      "0                     Enter the World of Pandora.   \n",
      "1  At the end of the world, the adventure begins.   \n",
      "2                           A Plan No One Escapes   \n",
      "3                                 The Legend Ends   \n",
      "4            Lost in our world, found in another.   \n",
      "\n",
      "                                      title vote_average vote_count  \\\n",
      "0                                    Avatar          7.2      11800   \n",
      "1  Pirates of the Caribbean: At World's End          6.9       4500   \n",
      "2                                   Spectre          6.3       4466   \n",
      "3                     The Dark Knight Rises          7.6       9106   \n",
      "4                               John Carter          6.1       2124   \n",
      "\n",
      "                                                cast  \\\n",
      "0  [{\"cast_id\": 242, \"character\": \"Jake Sully\", \"...   \n",
      "1  [{\"cast_id\": 4, \"character\": \"Captain Jack Spa...   \n",
      "2  [{\"cast_id\": 1, \"character\": \"James Bond\", \"cr...   \n",
      "3  [{\"cast_id\": 2, \"character\": \"Bruce Wayne / Ba...   \n",
      "4  [{\"cast_id\": 5, \"character\": \"John Carter\", \"c...   \n",
      "\n",
      "                                                crew  \n",
      "0  [{\"credit_id\": \"52fe48009251416c750aca23\", \"de...  \n",
      "1  [{\"credit_id\": \"52fe4232c3a36847f800b579\", \"de...  \n",
      "2  [{\"credit_id\": \"54805967c3a36829b5002c41\", \"de...  \n",
      "3  [{\"credit_id\": \"52fe4781c3a36847f81398c3\", \"de...  \n",
      "4  [{\"credit_id\": \"52fe479ac3a36847f813eaa3\", \"de...  \n",
      "\n",
      "[5 rows x 22 columns]\n"
     ]
    }
   ],
   "source": [
    "print(df.head())"
   ]
  },
  {
   "cell_type": "markdown",
   "id": "91695ecc-98dc-4ff0-bcbd-70f2776ca414",
   "metadata": {},
   "source": [
    "### Saving the files:"
   ]
  },
  {
   "cell_type": "code",
   "execution_count": 8,
   "id": "d292a370-ae0d-4ff8-b6e2-991c10ec0b05",
   "metadata": {},
   "outputs": [
    {
     "name": "stdout",
     "output_type": "stream",
     "text": [
      "Saved ../data/processed/merged\\merged_split_part1.csv (1000 rows)\n",
      "Saved ../data/processed/merged\\merged_split_part2.csv (1000 rows)\n",
      "Saved ../data/processed/merged\\merged_split_part3.csv (1000 rows)\n",
      "Saved ../data/processed/merged\\merged_split_part4.csv (1000 rows)\n",
      "Saved ../data/processed/merged\\merged_split_part5.csv (803 rows)\n"
     ]
    }
   ],
   "source": [
    "df.to_csv(\"../data/processed/movies_merged.csv\", index=False)\n",
    "split_csv(\"../data/processed/movies_merged.csv\", \"../data/processed/merged\", \"merged_split\", chunk_size=1000)"
   ]
  },
  {
   "cell_type": "code",
   "execution_count": null,
   "id": "aad3cf57-f6ff-490d-a2f3-402af8c932fa",
   "metadata": {},
   "outputs": [],
   "source": []
  }
 ],
 "metadata": {
  "kernelspec": {
   "display_name": "Python 3 (ipykernel)",
   "language": "python",
   "name": "python3"
  },
  "language_info": {
   "codemirror_mode": {
    "name": "ipython",
    "version": 3
   },
   "file_extension": ".py",
   "mimetype": "text/x-python",
   "name": "python",
   "nbconvert_exporter": "python",
   "pygments_lexer": "ipython3",
   "version": "3.11.7"
  }
 },
 "nbformat": 4,
 "nbformat_minor": 5
}
